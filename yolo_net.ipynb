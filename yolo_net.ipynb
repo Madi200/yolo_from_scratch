{
 "cells": [
  {
   "cell_type": "code",
   "execution_count": 1,
   "metadata": {},
   "outputs": [
    {
     "name": "stdout",
     "output_type": "stream",
     "text": [
      "\n",
      "WARNING: The TensorFlow contrib module will not be included in TensorFlow 2.0.\n",
      "For more information, please see:\n",
      "  * https://github.com/tensorflow/community/blob/master/rfcs/20180907-contrib-sunset.md\n",
      "  * https://github.com/tensorflow/addons\n",
      "If you depend on functionality not listed there, please file an issue.\n",
      "\n"
     ]
    }
   ],
   "source": [
    "import numpy as np\n",
    "import tensorflow as tf\n",
    "\n",
    "slim = tf.contrib.slim"
   ]
  },
  {
   "cell_type": "code",
   "execution_count": 2,
   "metadata": {},
   "outputs": [],
   "source": [
    "class YoloNet(object):\n",
    "    \n",
    "    def __init__(self, is_training=True):\n",
    "        self.classes = ['aeroplane', 'bicycle', 'bird', 'boat', 'bottle', 'bus',\n",
    "           'car', 'cat', 'chair', 'cow', 'diningtable', 'dog', 'horse',\n",
    "           'motorbike', 'person', 'pottedplant', 'sheep', 'sofa',\n",
    "           'train', 'tvmonitor']\n",
    "        self.num_of_classes = len(self.classes)\n",
    "        self.image_size = 448\n",
    "        self.cell_size = 7\n",
    "        self.boxes_per_cell = 2 \n",
    "        # output size = S*S * B*5 + Cls\n",
    "        self.output_size = (self.cell_size * self.cell_size) * (self.num_of_classes + self.boxes_per_cell * 5)\n",
    "        self.object_scale = 1.0\n",
    "        self.no_object_scale = 1.0\n",
    "        self.class_scale = 2.0\n",
    "        self.coordi_scale = 5.0\n",
    "        self.learning_rate = 0.0001\n",
    "        self.batch_size = 20\n",
    "        self.alpha = 0.1\n",
    "        \n",
    "        #(7, 7, 2)\n",
    "        self.offset = np.transpose(np.reshape(np.array(\n",
    "            [np.arange(self.cell_size)] * self.cell_size * self.boxes_per_cell),\n",
    "            (self.boxes_per_cell, self.cell_size, self.cell_size)), (1, 2, 0))\n",
    "        self.images = tf.placeholder(\n",
    "            tf.float32, [None, self.image_size, self.image_size, 3],\n",
    "            name='images')\n",
    "        self.logits = self.build_network(self.images, num_outputs=self.output_size, alpha=self.alpha,\n",
    "                                                                                     is_training=is_training)\n",
    "\n",
    "    def build_network(self, images, num_outputs, alpha, keep_prob=0.5, is_training=True, scope='yolo'):\n",
    "        with tf.variable_scope(scope):\n",
    "            with slim.arg_scope(\n",
    "                [slim.conv2d, slim.fully_connected],\n",
    "                activation_fn=leaky_relu(alpha),\n",
    "                weights_regularizer=slim.l2_regularizer(0.0005),\n",
    "                # truncated help in convergance\n",
    "                weights_initializer=tf.truncated_normal_initializer(0.0, 0.01)\n",
    "            ):\n",
    "                net = tf.pad(images, np.array([[0, 0], [3, 3], [3, 3], [0, 0]]),name='pad_1')\n",
    "                #print(\"Start padd\", net)\n",
    "                # 64 filters of 7 *7 with stride of 2 padding = no padding\n",
    "                net = slim.conv2d(\n",
    "                    net, 64, 7, 2, padding='VALID', scope='conv_2')\n",
    "                #print(\"1st conv\", net)\n",
    "                # Max Pooling layer padding = same as input dimension. Stride = 2\n",
    "                net = slim.max_pool2d(net, 2, padding='SAME', scope='pool_3')\n",
    "                \n",
    "                net = slim.conv2d(net, 192, 3, scope='conv_4')\n",
    "                net = slim.max_pool2d(net, 2, padding='SAME', scope='pool_5')\n",
    "                \n",
    "                net = slim.conv2d(net, 128, 1, scope='conv_6')\n",
    "                net = slim.conv2d(net, 256, 3, scope='conv_7')\n",
    "                net = slim.conv2d(net, 256, 1, scope='conv_8')\n",
    "                net = slim.conv2d(net, 512, 3, scope='conv_9')\n",
    "                net = slim.max_pool2d(net, 2, padding='SAME', scope='pool_10')\n",
    "                \n",
    "                net = slim.conv2d(net, 256, 1, scope='conv_11')\n",
    "                net = slim.conv2d(net, 512, 3, scope='conv_12')\n",
    "                net = slim.conv2d(net, 256, 1, scope='conv_13')\n",
    "                net = slim.conv2d(net, 512, 3, scope='conv_14')\n",
    "                net = slim.conv2d(net, 256, 1, scope='conv_15')\n",
    "                net = slim.conv2d(net, 512, 3, scope='conv_16')\n",
    "                net = slim.conv2d(net, 256, 1, scope='conv_17')\n",
    "                net = slim.conv2d(net, 512, 3, scope='conv_18')\n",
    "                net = slim.conv2d(net, 512, 1, scope='conv_19')\n",
    "                net = slim.conv2d(net, 1024, 3, scope='conv_20')\n",
    "                net = slim.max_pool2d(net, 2, padding='SAME', scope='pool_21')\n",
    "                \n",
    "                net = slim.conv2d(net, 512, 1, scope='conv_22')\n",
    "                net = slim.conv2d(net, 1024, 3, scope='conv_23')\n",
    "                net = slim.conv2d(net, 512, 1, scope='conv_24')\n",
    "                net = slim.conv2d(net, 1024, 3, scope='conv_25')\n",
    "                net = slim.conv2d(net, 1024, 3, scope='conv_26')\n",
    "                net = tf.pad(net, np.array([[0, 0], [1, 1], [1, 1], [0, 0]]),name='pad_27')\n",
    "                net = slim.conv2d(\n",
    "                    net, 1024, 3, 2, padding='VALID', scope='conv_28')\n",
    "                net = slim.conv2d(net, 1024, 3, scope='conv_29')\n",
    "                net = slim.conv2d(net, 1024, 3, scope='conv_30')\n",
    "                # transpose to change NHWC([batch_size, height, width, channels]) to NCHW\n",
    "                net = tf.transpose(net, [0, 3, 1, 2], name='trans_31')\n",
    "                net = slim.flatten(net, scope='flat_32')\n",
    "                net = slim.fully_connected(net, 512, scope='fc_33')\n",
    "                #=4096\n",
    "                net = slim.fully_connected(net, 4096, scope='fc_34')\n",
    "                #print(net)\n",
    "                net = slim.dropout(\n",
    "                    net, keep_prob=keep_prob, is_training=is_training,\n",
    "                    scope='dropout_35')\n",
    "                #7 x 7 x (2 x 5 + 20) = 7 x 7 x 30 tensor  = 1470\n",
    "                net = slim.fully_connected(\n",
    "                    net, num_outputs, activation_fn=None, scope='fc_36')        \n",
    "                print(net)\n",
    "        return net\n",
    "\n",
    "def leaky_relu(alpha):\n",
    "    def op(inputs):\n",
    "        return tf.nn.leaky_relu(inputs, alpha=alpha, name='leaky_relu')\n",
    "    return op"
   ]
  },
  {
   "cell_type": "code",
   "execution_count": 3,
   "metadata": {},
   "outputs": [
    {
     "name": "stdout",
     "output_type": "stream",
     "text": [
      "WARNING:tensorflow:From /home/hawk_pc/anaconda3/lib/python3.7/site-packages/tensorflow/python/framework/op_def_library.py:263: colocate_with (from tensorflow.python.framework.ops) is deprecated and will be removed in a future version.\n",
      "Instructions for updating:\n",
      "Colocations handled automatically by placer.\n",
      "WARNING:tensorflow:From /home/hawk_pc/anaconda3/lib/python3.7/site-packages/tensorflow/contrib/layers/python/layers/layers.py:1624: flatten (from tensorflow.python.layers.core) is deprecated and will be removed in a future version.\n",
      "Instructions for updating:\n",
      "Use keras.layers.flatten instead.\n"
     ]
    }
   ],
   "source": [
    "yolo = YoloNet(is_training= False)"
   ]
  },
  {
   "cell_type": "code",
   "execution_count": null,
   "metadata": {},
   "outputs": [],
   "source": []
  }
 ],
 "metadata": {
  "kernelspec": {
   "display_name": "Python 3",
   "language": "python",
   "name": "python3"
  },
  "language_info": {
   "codemirror_mode": {
    "name": "ipython",
    "version": 3
   },
   "file_extension": ".py",
   "mimetype": "text/x-python",
   "name": "python",
   "nbconvert_exporter": "python",
   "pygments_lexer": "ipython3",
   "version": "3.7.1"
  }
 },
 "nbformat": 4,
 "nbformat_minor": 2
}
