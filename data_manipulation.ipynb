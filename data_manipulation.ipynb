{
 "cells": [
  {
   "cell_type": "code",
   "execution_count": 2,
   "metadata": {},
   "outputs": [],
   "source": [
    "import os\n",
    "import xml.etree.ElementTree as ET\n",
    "import numpy as np\n",
    "import cv2\n",
    "import pickle\n",
    "import copy\n",
    "import tensorflow as tf"
   ]
  },
  {
   "cell_type": "code",
   "execution_count": 18,
   "metadata": {},
   "outputs": [],
   "source": [
    "DATA_PATH ='data'\n",
    "PASCAL_PATH = os.path.join(DATA_PATH, 'pascal_voc')\n",
    "CACHE_PATH = os.path.join(PASCAL_PATH, 'cache')"
   ]
  },
  {
   "cell_type": "code",
   "execution_count": 95,
   "metadata": {},
   "outputs": [],
   "source": [
    "class dataset_pascal_voc(object):\n",
    "    def __init__(self, phase, rebuild=False):\n",
    "        self.devkil_path = os.path.join(PASCAL_PATH, 'VOCdevkit')\n",
    "        self.data_path = os.path.join(self.devkil_path, 'VOC2007')\n",
    "        self.cache_path = CACHE_PATH\n",
    "        self.batch_size = 20\n",
    "        self.image_size = 448\n",
    "        self.cell_size = 7\n",
    "        self.classes = ['aeroplane', 'bicycle', 'bird', 'boat', 'bottle', 'bus',\n",
    "           'car', 'cat', 'chair', 'cow', 'diningtable', 'dog', 'horse',\n",
    "           'motorbike', 'person', 'pottedplant', 'sheep', 'sofa',\n",
    "           'train', 'tvmonitor']\n",
    "        self.class_to_ind = dict(zip(self.classes, range(len(self.classes)))) #create dict where keys = labels\n",
    "        self.flipped = True\n",
    "        self.phase = phase\n",
    "        self.rebuild = rebuild\n",
    "        self.cursor = 0\n",
    "        self.epoch = 1\n",
    "        self.labels_got = None\n",
    "        self.prepare()\n",
    "        \n",
    "    def get(self):\n",
    "        X_img = np.zeros((self.batch_size, self.image_size, self.image_size, 3))\n",
    "        Y_labels = np.zeros((self.batch_size, self.cell_size, self.cell_size, 25))\n",
    "        count_batch = 0\n",
    "        while count_batch < self.batch_size:\n",
    "            img_name = self.labels_got[self.cursor]['imname']\n",
    "            flipped = self.labels_got[self.cursor]['flipped']\n",
    "            X_img[count_batch, :,:,:] = self.read_image(img_name,flipped)\n",
    "            Y_labels[count_batch, :,:,:] = self.labels_got[self.cursor]['label']\n",
    "            count_batch +=1\n",
    "        \n",
    "        return X_img, Y_labels\n",
    "        \n",
    "            \n",
    "    def read_image(self, img_name, flipped=False):\n",
    "        image = cv2.imread(img_name)\n",
    "        # resize image to 448 , 448\n",
    "        image = cv2.resize(image, (self.image_size, self.image_size))\n",
    "        image = cv2.cvtColor(image, cv2.COLOR_BGR2RGB).astype(np.float32)\n",
    "        image = (image /255.0) *2 -1.0\n",
    "        if flipped:\n",
    "            image = image[:,::-1,:]        \n",
    "        return image\n",
    "    \n",
    "    def prepare(self):\n",
    "        print(\"In prepare\")\n",
    "        # contains list of dict where each dicts where each dict contain file path, 3D labels & if flipped or not\n",
    "        labels_got = self.get_labels()\n",
    "        #print(labels_got[0:10])\n",
    "        #print(labels_got[0]['label'])\n",
    "        if self.flipped:\n",
    "            print('Appending horizontally-flipped training examples ...')\n",
    "            labels_copy = copy.deepcopy(labels_got)\n",
    "            added_labels = self.data_augment(labels_got,labels_copy)\n",
    "        np.random.shuffle(added_labels)\n",
    "        self.labels_got = added_labels\n",
    "        print(\"labels len\", len(added_labels))\n",
    "        return labels_got\n",
    "        \n",
    "    \n",
    "    def data_augment(self, orig_labels, labels_copy):\n",
    "        print(\"Create flipped data\")\n",
    "        for index in range(len(labels_copy)):\n",
    "            labels_copy[index]['flipped'] = True\n",
    "            labels_copy[index]['label'] = labels_copy[index]['label'][:,::-1,:]\n",
    "            \n",
    "            for i in range(self.cell_size):\n",
    "                for j in range(self.cell_size):\n",
    "                    if labels_copy[index]['label'][i,j,0] == 1:\n",
    "                        #print(labels_copy[index]['label'][i,j,2])\n",
    "                        labels_copy[index]['label'][i,j,1] = self.image_size-1-labels_copy[index]['label'][i,j,1]\n",
    "                        #print(labels_copy[index]['label'][i,j,2])\n",
    "        orig_labels+= labels_copy\n",
    "        return orig_labels\n",
    "        \n",
    "        \n",
    "    def get_labels(self):\n",
    "        # getting file containing data\n",
    "        cache_file = os.path.join(self.cache_path,'pascal_'+self.phase+'_gt_labels.pkl')\n",
    "        print(self.cache_path)\n",
    "        if(os.path.isfile(cache_file) and not self.rebuild):\n",
    "            print(\"Getting labels from \"+ cache_file)\n",
    "            with open(cache_file, 'rb') as labels_file:\n",
    "                labels_got = pickle.load(labels_file)\n",
    "                \n",
    "            print(\"original labels length :\", len(labels_got))\n",
    "            return labels_got"
   ]
  },
  {
   "cell_type": "code",
   "execution_count": 96,
   "metadata": {},
   "outputs": [
    {
     "name": "stdout",
     "output_type": "stream",
     "text": [
      "In prepare\n",
      "data/pascal_voc/cache\n",
      "Getting labels from data/pascal_voc/cache/pascal_train_gt_labels.pkl\n",
      "original labels length : 5011\n",
      "Appending horizontally-flipped training examples ...\n",
      "Create flipped data\n",
      "labels len 10022\n"
     ]
    }
   ],
   "source": [
    "pascal_dataset = dataset_pascal_voc('train')"
   ]
  },
  {
   "cell_type": "code",
   "execution_count": 97,
   "metadata": {},
   "outputs": [],
   "source": [
    "imgs,lbls = pascal_dataset.get()\n"
   ]
  },
  {
   "cell_type": "code",
   "execution_count": 98,
   "metadata": {},
   "outputs": [
    {
     "name": "stdout",
     "output_type": "stream",
     "text": [
      "(20, 448, 448, 3)\n",
      "(20, 7, 7, 25)\n"
     ]
    }
   ],
   "source": [
    "print(imgs.shape)\n",
    "print(lbls.shape)"
   ]
  },
  {
   "cell_type": "code",
   "execution_count": null,
   "metadata": {},
   "outputs": [],
   "source": [
    "# Just testing code snippets\n",
    "\n",
    "#------------------------------------------------\n",
    "\n",
    "# flipping image horizontally. Uncomment to test\n",
    "#from matplotlib import pyplot as plt\n",
    "#image = cv2.imread(\"cat2.jpeg\")\n",
    "#print(image.shape)\n",
    "#plt.imshow(image)\n",
    "#plt.show()\n",
    "#print(\"*\"*30)\n",
    "#img_flip = image[:,::-1,:]\n",
    "#print(img_flip.shape)\n",
    "#plt.imshow(img_flip)\n",
    "#plt.show()\n",
    "\n",
    "#------------------------------------------------\n"
   ]
  },
  {
   "cell_type": "code",
   "execution_count": null,
   "metadata": {},
   "outputs": [],
   "source": []
  }
 ],
 "metadata": {
  "kernelspec": {
   "display_name": "Python 3",
   "language": "python",
   "name": "python3"
  },
  "language_info": {
   "codemirror_mode": {
    "name": "ipython",
    "version": 3
   },
   "file_extension": ".py",
   "mimetype": "text/x-python",
   "name": "python",
   "nbconvert_exporter": "python",
   "pygments_lexer": "ipython3",
   "version": "3.7.1"
  }
 },
 "nbformat": 4,
 "nbformat_minor": 2
}
